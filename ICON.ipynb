{
  "nbformat": 4,
  "nbformat_minor": 0,
  "metadata": {
    "colab": {
      "provenance": [],
      "include_colab_link": true
    },
    "kernelspec": {
      "name": "python3",
      "display_name": "Python 3"
    },
    "language_info": {
      "name": "python"
    },
    "accelerator": "TPU",
    "gpuClass": "standard"
  },
  "cells": [
    {
      "cell_type": "markdown",
      "metadata": {
        "id": "view-in-github",
        "colab_type": "text"
      },
      "source": [
        "<a href=\"https://colab.research.google.com/github/giorgianardelli/ICon-22-23/blob/main/ICON.ipynb\" target=\"_parent\"><img src=\"https://colab.research.google.com/assets/colab-badge.svg\" alt=\"Open In Colab\"/></a>"
      ]
    },
    {
      "cell_type": "markdown",
      "source": [
        "IMPORTS"
      ],
      "metadata": {
        "id": "-3VkZA9lsSNd"
      }
    },
    {
      "cell_type": "code",
      "source": [
        "#importazione libreria pandas usata per leggere e scrivere dati tra strutture dati in memoria e diversi formati, in questo caso per CSV\n",
        "import pandas as pd\n",
        "import matplotlib.pyplot as plt\n",
        "from sklearn.metrics import accuracy_score, precision_score, recall_score, f1_score\n",
        "from sklearn.model_selection import train_test_split\n",
        "from sklearn.linear_model import LogisticRegression\n",
        "from sklearn.tree import DecisionTreeClassifier\n",
        "from sklearn.naive_bayes import GaussianNB\n",
        "from sklearn.metrics import confusion_matrix\n",
        "import seaborn as sns"
      ],
      "metadata": {
        "id": "bhbAsVOhsRuZ"
      },
      "execution_count": 70,
      "outputs": []
    },
    {
      "cell_type": "markdown",
      "source": [
        "READ CSV"
      ],
      "metadata": {
        "id": "NfYxYGAosmwo"
      }
    },
    {
      "cell_type": "code",
      "execution_count": 71,
      "metadata": {
        "id": "qWiKRoq6vHY_",
        "colab": {
          "base_uri": "https://localhost:8080/"
        },
        "outputId": "4e16e4ab-1215-4848-e211-a13dea1502b8"
      },
      "outputs": [
        {
          "output_type": "stream",
          "name": "stdout",
          "text": [
            "Dimensione del dataframe iniziale:  (145460, 23)\n"
          ]
        },
        {
          "output_type": "execute_result",
          "data": {
            "text/plain": [
              "Index(['Date', 'Location', 'MinTemp', 'MaxTemp', 'Rainfall', 'Evaporation',\n",
              "       'Sunshine', 'WindGustDir', 'WindGustSpeed', 'WindDir9am', 'WindDir3pm',\n",
              "       'WindSpeed9am', 'WindSpeed3pm', 'Humidity9am', 'Humidity3pm',\n",
              "       'Pressure9am', 'Pressure3pm', 'Cloud9am', 'Cloud3pm', 'Temp9am',\n",
              "       'Temp3pm', 'RainToday', 'RainTomorrow'],\n",
              "      dtype='object')"
            ]
          },
          "metadata": {},
          "execution_count": 71
        }
      ],
      "source": [
        "df = pd.read_csv('weatherAUS.csv')\n",
        "\n",
        "#Visualizzazione della dimensione e delle colonne del dataframe\n",
        "print('Dimensione del dataframe iniziale: ', df.shape)\n",
        "df.columns"
      ]
    },
    {
      "cell_type": "markdown",
      "source": [
        "##PREPROCESSING"
      ],
      "metadata": {
        "id": "FYNM3EQD4-GE"
      }
    },
    {
      "cell_type": "code",
      "source": [
        "#Feature Selection\n",
        "df = df.drop(columns=['WindGustDir', 'WindDir9am', 'WindDir3pm', 'Date'])\n",
        "df.shape"
      ],
      "metadata": {
        "id": "3-ydtjahz6R-",
        "colab": {
          "base_uri": "https://localhost:8080/"
        },
        "outputId": "8cf64339-194a-421e-d691-8cffba35ebc2"
      },
      "execution_count": 72,
      "outputs": [
        {
          "output_type": "execute_result",
          "data": {
            "text/plain": [
              "(145460, 19)"
            ]
          },
          "metadata": {},
          "execution_count": 72
        }
      ]
    },
    {
      "cell_type": "code",
      "source": [
        "#Conto dei valori nulli per colonne\n",
        "print(\"Conto del numero totale di valori N/A per righe: \")\n",
        "df.isna().sum(axis=0)"
      ],
      "metadata": {
        "id": "cMjS4UuLwrig",
        "colab": {
          "base_uri": "https://localhost:8080/"
        },
        "outputId": "373fa2f3-2231-4b3a-9c00-d6aec45adaec"
      },
      "execution_count": 73,
      "outputs": [
        {
          "output_type": "stream",
          "name": "stdout",
          "text": [
            "Conto del numero totale di valori N/A per righe: \n"
          ]
        },
        {
          "output_type": "execute_result",
          "data": {
            "text/plain": [
              "Location             0\n",
              "MinTemp           1485\n",
              "MaxTemp           1261\n",
              "Rainfall          3261\n",
              "Evaporation      62790\n",
              "Sunshine         69835\n",
              "WindGustSpeed    10263\n",
              "WindSpeed9am      1767\n",
              "WindSpeed3pm      3062\n",
              "Humidity9am       2654\n",
              "Humidity3pm       4507\n",
              "Pressure9am      15065\n",
              "Pressure3pm      15028\n",
              "Cloud9am         55888\n",
              "Cloud3pm         59358\n",
              "Temp9am           1767\n",
              "Temp3pm           3609\n",
              "RainToday         3261\n",
              "RainTomorrow      3267\n",
              "dtype: int64"
            ]
          },
          "metadata": {},
          "execution_count": 73
        }
      ]
    },
    {
      "cell_type": "code",
      "source": [
        "#controlla i valori mancanti (NaN) nella colonna RainToday e RainTomorrow e se viene rilevato un valore mancante quella riga che contiene quel valore viene eliminata dal df\n",
        "df = df[df['RainToday'].notna()]\n",
        "df = df[df['RainTomorrow'].notna()]"
      ],
      "metadata": {
        "id": "8a9FWlyz5GJ2"
      },
      "execution_count": 74,
      "outputs": []
    },
    {
      "cell_type": "code",
      "source": [
        "#ENCODING PER RainToday e RainTomorrow\n",
        "df['RainToday'] = df['RainToday'].map({'No': 0, 'Yes': 1})\n",
        "df['RainTomorrow'] = df['RainTomorrow'].map({'No': 0, 'Yes': 1})"
      ],
      "metadata": {
        "id": "SdWurHIe5-Ev"
      },
      "execution_count": 75,
      "outputs": []
    },
    {
      "cell_type": "code",
      "source": [
        "df.dtypes"
      ],
      "metadata": {
        "id": "5hRwtAfV6CYy",
        "colab": {
          "base_uri": "https://localhost:8080/"
        },
        "outputId": "0e19fd19-0dd6-4db0-9b03-746f89e78309"
      },
      "execution_count": 76,
      "outputs": [
        {
          "output_type": "execute_result",
          "data": {
            "text/plain": [
              "Location          object\n",
              "MinTemp          float64\n",
              "MaxTemp          float64\n",
              "Rainfall         float64\n",
              "Evaporation      float64\n",
              "Sunshine         float64\n",
              "WindGustSpeed    float64\n",
              "WindSpeed9am     float64\n",
              "WindSpeed3pm     float64\n",
              "Humidity9am      float64\n",
              "Humidity3pm      float64\n",
              "Pressure9am      float64\n",
              "Pressure3pm      float64\n",
              "Cloud9am         float64\n",
              "Cloud3pm         float64\n",
              "Temp9am          float64\n",
              "Temp3pm          float64\n",
              "RainToday          int64\n",
              "RainTomorrow       int64\n",
              "dtype: object"
            ]
          },
          "metadata": {},
          "execution_count": 76
        }
      ]
    },
    {
      "cell_type": "code",
      "source": [
        "#ENCODING PER LOCATION\n",
        "mapper = {location: i for i, location in enumerate(df['Location'].unique())}\n",
        "df['Location'] = df['Location'].map(mapper)\n",
        "df.dtypes"
      ],
      "metadata": {
        "id": "Xiz6iZaI6juD",
        "outputId": "7aebf9be-e8f7-4411-96ac-644a20ebb609",
        "colab": {
          "base_uri": "https://localhost:8080/"
        }
      },
      "execution_count": 77,
      "outputs": [
        {
          "output_type": "execute_result",
          "data": {
            "text/plain": [
              "Location           int64\n",
              "MinTemp          float64\n",
              "MaxTemp          float64\n",
              "Rainfall         float64\n",
              "Evaporation      float64\n",
              "Sunshine         float64\n",
              "WindGustSpeed    float64\n",
              "WindSpeed9am     float64\n",
              "WindSpeed3pm     float64\n",
              "Humidity9am      float64\n",
              "Humidity3pm      float64\n",
              "Pressure9am      float64\n",
              "Pressure3pm      float64\n",
              "Cloud9am         float64\n",
              "Cloud3pm         float64\n",
              "Temp9am          float64\n",
              "Temp3pm          float64\n",
              "RainToday          int64\n",
              "RainTomorrow       int64\n",
              "dtype: object"
            ]
          },
          "metadata": {},
          "execution_count": 77
        }
      ]
    },
    {
      "cell_type": "markdown",
      "source": [
        "##BILANCIAMENTO DEI CAMPIONI"
      ],
      "metadata": {
        "id": "9H0SQuLW6zFo"
      }
    },
    {
      "cell_type": "code",
      "source": [
        "print('Non pioverà .... {0}'.format(len([i for i in df['RainTomorrow'] if i==0])))\n",
        "print('Pioverà .... {0}'.format(len([i for i in df['RainTomorrow'] if i==1])))"
      ],
      "metadata": {
        "colab": {
          "base_uri": "https://localhost:8080/"
        },
        "id": "U74Wj4ku6yoP",
        "outputId": "e4698b32-d40c-4408-9a03-9cda685c18b1"
      },
      "execution_count": 78,
      "outputs": [
        {
          "output_type": "stream",
          "name": "stdout",
          "text": [
            "Non pioverà .... 109586\n",
            "Pioverà .... 31201\n"
          ]
        }
      ]
    },
    {
      "cell_type": "code",
      "source": [
        "# grafico che mostra la colonna RainTomorrow prima del bilanciamento dei valori\n",
        "plt.figure(figsize=(10,5))\n",
        "plt.title(\"Distribuzione della colonna RainTomorrow prima del bilanciamento\")\n",
        "df['RainTomorrow'].value_counts().plot(kind='bar')\n",
        "plt.xlabel('RainTomorrow')\n",
        "plt.ylabel('Counts')\n",
        "plt.show()"
      ],
      "metadata": {
        "colab": {
          "base_uri": "https://localhost:8080/",
          "height": 346
        },
        "id": "wBmd9TeNnqNu",
        "outputId": "5358c96b-620e-436f-f522-e5c16d862a14"
      },
      "execution_count": 79,
      "outputs": [
        {
          "output_type": "display_data",
          "data": {
            "text/plain": [
              "<Figure size 720x360 with 1 Axes>"
            ],
            "image/png": "[encoded data removed]"
          },
          "metadata": {
            "needs_background": "light"
          }
        }
      ]
    },
    {
      "cell_type": "code",
      "source": [
        "#BILANCIAMENTO DEI CAMPIONI\n",
        "\n",
        "#divido il dataset\n",
        "df_pioggia = df[df['RainTomorrow']==1]\n",
        "df_non_pioggia = df[df['RainTomorrow']==0]\n",
        "\n",
        "df_non_pioggia = df_non_pioggia.sample(n=len(df_pioggia), random_state=123)"
      ],
      "metadata": {
        "id": "u6xnLPgz62bM"
      },
      "execution_count": 80,
      "outputs": []
    },
    {
      "cell_type": "code",
      "source": [
        "#riempiamo i valori mancanti (N/A) all'interno del DataFrame df_pioggia con la media di tutti i valori del DataFrame df_pioggia\n",
        "df_pioggia = df_pioggia.fillna(df_pioggia.mean())\n",
        "\n",
        "#riempiamo i valori mancanti (N/A) all'interno del DataFrame df_non_pioggia con la media di tutti i valori del DataFrame df_non_pioggia\n",
        "df_non_pioggia = df_non_pioggia.fillna(df_non_pioggia.mean())"
      ],
      "metadata": {
        "id": "rzfXIvjeVFfu"
      },
      "execution_count": 81,
      "outputs": []
    },
    {
      "cell_type": "code",
      "source": [
        "#concateniamo i due DataFrame\n",
        "df_balanced = pd.concat([df_pioggia, df_non_pioggia])\n",
        "df_balanced"
      ],
      "metadata": {
        "id": "OUNCvUIhT80X",
        "colab": {
          "base_uri": "https://localhost:8080/",
          "height": 488
        },
        "outputId": "92914d41-f6cd-4e7c-c32a-d706953d87d9"
      },
      "execution_count": 82,
      "outputs": [
        {
          "output_type": "execute_result",
          "data": {
            "text/plain": [
              "        Location  MinTemp  MaxTemp  Rainfall  Evaporation   Sunshine  \\\n",
              "8              0      9.7     31.9       0.0     4.528762   4.450802   \n",
              "10             0     13.4     30.4       0.0     4.528762   4.450802   \n",
              "11             0     15.9     21.7       2.2     4.528762   4.450802   \n",
              "12             0     15.9     18.6      15.6     4.528762   4.450802   \n",
              "16             0     14.1     20.9       0.0     4.528762   4.450802   \n",
              "...          ...      ...      ...       ...          ...        ...   \n",
              "106606        35     14.7     26.7       0.0     5.753928   8.598272   \n",
              "94773         31     22.0     30.7       0.0     7.000000  10.800000   \n",
              "141813        46     27.4     35.3       0.0     7.000000   9.900000   \n",
              "70963         23      2.3     15.0       0.0     1.000000   9.300000   \n",
              "3683           1     15.3     22.6       0.2     5.753928   8.598272   \n",
              "\n",
              "        WindGustSpeed  WindSpeed9am  WindSpeed3pm  Humidity9am  Humidity3pm  \\\n",
              "8                80.0           7.0          28.0         42.0          9.0   \n",
              "10               30.0          17.0           6.0         48.0         22.0   \n",
              "11               31.0          15.0          13.0         89.0         91.0   \n",
              "12               61.0          28.0          28.0         76.0         93.0   \n",
              "16               22.0          11.0           9.0         69.0         82.0   \n",
              "...               ...           ...           ...          ...          ...   \n",
              "106606           54.0          31.0          28.0         57.0         28.0   \n",
              "94773            28.0           9.0          17.0         65.0         54.0   \n",
              "141813           30.0           9.0          19.0         75.0         62.0   \n",
              "70963            22.0           7.0           9.0         95.0         51.0   \n",
              "3683             30.0           0.0          13.0         89.0         71.0   \n",
              "\n",
              "        Pressure9am  Pressure3pm  Cloud9am  Cloud3pm  Temp9am  Temp3pm  \\\n",
              "8            1008.9       1003.6  6.097577  6.367638     18.3     30.2   \n",
              "10           1011.8       1008.7  6.097577  6.367638     20.4     28.8   \n",
              "11           1010.5       1004.2  8.000000  8.000000     15.9     17.0   \n",
              "12            994.3        993.0  8.000000  8.000000     17.4     15.8   \n",
              "16           1012.2       1010.4  8.000000  1.000000     17.2     18.1   \n",
              "...             ...          ...       ...       ...      ...      ...   \n",
              "106606       1011.0       1009.2  0.000000  3.898532     17.6     24.9   \n",
              "94773        1014.3       1011.4  4.000000  1.000000     28.3     29.8   \n",
              "141813       1013.0       1009.0  8.000000  2.000000     29.4     33.3   \n",
              "70963        1033.3       1031.3  0.000000  0.000000      5.3     14.7   \n",
              "3683         1022.9       1019.0  3.914474  3.898532     18.0     21.2   \n",
              "\n",
              "        RainToday  RainTomorrow  \n",
              "8               0             1  \n",
              "10              0             1  \n",
              "11              1             1  \n",
              "12              1             1  \n",
              "16              0             1  \n",
              "...           ...           ...  \n",
              "106606          0             0  \n",
              "94773           0             0  \n",
              "141813          0             0  \n",
              "70963           0             0  \n",
              "3683            0             0  \n",
              "\n",
              "[62402 rows x 19 columns]"
            ],
            "text/html": [
              "\n",
              "  <div id=\"df-953a56f5-baeb-4b5f-9b99-557fa03849b5\">\n",
              "    <div class=\"colab-df-container\">\n",
              "      <div>\n",
              "<style scoped>\n",
              "    .dataframe tbody tr th:only-of-type {\n",
              "        vertical-align: middle;\n",
              "    }\n",
              "\n",
              "    .dataframe tbody tr th {\n",
              "        vertical-align: top;\n",
              "    }\n",
              "\n",
              "    .dataframe thead th {\n",
              "        text-align: right;\n",
              "    }\n",
              "</style>\n",
              "<table border=\"1\" class=\"dataframe\">\n",
              "  <thead>\n",
              "    <tr style=\"text-align: right;\">\n",
              "      <th></th>\n",
              "      <th>Location</th>\n",
              "      <th>MinTemp</th>\n",
              "      <th>MaxTemp</th>\n",
              "      <th>Rainfall</th>\n",
              "      <th>Evaporation</th>\n",
              "      <th>Sunshine</th>\n",
              "      <th>WindGustSpeed</th>\n",
              "      <th>WindSpeed9am</th>\n",
              "      <th>WindSpeed3pm</th>\n",
              "      <th>Humidity9am</th>\n",
              "      <th>Humidity3pm</th>\n",
              "      <th>Pressure9am</th>\n",
              "      <th>Pressure3pm</th>\n",
              "      <th>Cloud9am</th>\n",
              "      <th>Cloud3pm</th>\n",
              "      <th>Temp9am</th>\n",
              "      <th>Temp3pm</th>\n",
              "      <th>RainToday</th>\n",
              "      <th>RainTomorrow</th>\n",
              "    </tr>\n",
              "  </thead>\n",
              "  <tbody>\n",
              "    <tr>\n",
              "      <th>8</th>\n",
              "      <td>0</td>\n",
              "      <td>9.7</td>\n",
              "      <td>31.9</td>\n",
              "      <td>0.0</td>\n",
              "      <td>4.528762</td>\n",
              "      <td>4.450802</td>\n",
              "      <td>80.0</td>\n",
              "      <td>7.0</td>\n",
              "      <td>28.0</td>\n",
              "      <td>42.0</td>\n",
              "      <td>9.0</td>\n",
              "      <td>1008.9</td>\n",
              "      <td>1003.6</td>\n",
              "      <td>6.097577</td>\n",
              "      <td>6.367638</td>\n",
              "      <td>18.3</td>\n",
              "      <td>30.2</td>\n",
              "      <td>0</td>\n",
              "      <td>1</td>\n",
              "    </tr>\n",
              "    <tr>\n",
              "      <th>10</th>\n",
              "      <td>0</td>\n",
              "      <td>13.4</td>\n",
              "      <td>30.4</td>\n",
              "      <td>0.0</td>\n",
              "      <td>4.528762</td>\n",
              "      <td>4.450802</td>\n",
              "      <td>30.0</td>\n",
              "      <td>17.0</td>\n",
              "      <td>6.0</td>\n",
              "      <td>48.0</td>\n",
              "      <td>22.0</td>\n",
              "      <td>1011.8</td>\n",
              "      <td>1008.7</td>\n",
              "      <td>6.097577</td>\n",
              "      <td>6.367638</td>\n",
              "      <td>20.4</td>\n",
              "      <td>28.8</td>\n",
              "      <td>0</td>\n",
              "      <td>1</td>\n",
              "    </tr>\n",
              "    <tr>\n",
              "      <th>11</th>\n",
              "      <td>0</td>\n",
              "      <td>15.9</td>\n",
              "      <td>21.7</td>\n",
              "      <td>2.2</td>\n",
              "      <td>4.528762</td>\n",
              "      <td>4.450802</td>\n",
              "      <td>31.0</td>\n",
              "      <td>15.0</td>\n",
              "      <td>13.0</td>\n",
              "      <td>89.0</td>\n",
              "      <td>91.0</td>\n",
              "      <td>1010.5</td>\n",
              "      <td>1004.2</td>\n",
              "      <td>8.000000</td>\n",
              "      <td>8.000000</td>\n",
              "      <td>15.9</td>\n",
              "      <td>17.0</td>\n",
              "      <td>1</td>\n",
              "      <td>1</td>\n",
              "    </tr>\n",
              "    <tr>\n",
              "      <th>12</th>\n",
              "      <td>0</td>\n",
              "      <td>15.9</td>\n",
              "      <td>18.6</td>\n",
              "      <td>15.6</td>\n",
              "      <td>4.528762</td>\n",
              "      <td>4.450802</td>\n",
              "      <td>61.0</td>\n",
              "      <td>28.0</td>\n",
              "      <td>28.0</td>\n",
              "      <td>76.0</td>\n",
              "      <td>93.0</td>\n",
              "      <td>994.3</td>\n",
              "      <td>993.0</td>\n",
              "      <td>8.000000</td>\n",
              "      <td>8.000000</td>\n",
              "      <td>17.4</td>\n",
              "      <td>15.8</td>\n",
              "      <td>1</td>\n",
              "      <td>1</td>\n",
              "    </tr>\n",
              "    <tr>\n",
              "      <th>16</th>\n",
              "      <td>0</td>\n",
              "      <td>14.1</td>\n",
              "      <td>20.9</td>\n",
              "      <td>0.0</td>\n",
              "      <td>4.528762</td>\n",
              "      <td>4.450802</td>\n",
              "      <td>22.0</td>\n",
              "      <td>11.0</td>\n",
              "      <td>9.0</td>\n",
              "      <td>69.0</td>\n",
              "      <td>82.0</td>\n",
              "      <td>1012.2</td>\n",
              "      <td>1010.4</td>\n",
              "      <td>8.000000</td>\n",
              "      <td>1.000000</td>\n",
              "      <td>17.2</td>\n",
              "      <td>18.1</td>\n",
              "      <td>0</td>\n",
              "      <td>1</td>\n",
              "    </tr>\n",
              "    <tr>\n",
              "      <th>...</th>\n",
              "      <td>...</td>\n",
              "      <td>...</td>\n",
              "      <td>...</td>\n",
              "      <td>...</td>\n",
              "      <td>...</td>\n",
              "      <td>...</td>\n",
              "      <td>...</td>\n",
              "      <td>...</td>\n",
              "      <td>...</td>\n",
              "      <td>...</td>\n",
              "      <td>...</td>\n",
              "      <td>...</td>\n",
              "      <td>...</td>\n",
              "      <td>...</td>\n",
              "      <td>...</td>\n",
              "      <td>...</td>\n",
              "      <td>...</td>\n",
              "      <td>...</td>\n",
              "      <td>...</td>\n",
              "    </tr>\n",
              "    <tr>\n",
              "      <th>106606</th>\n",
              "      <td>35</td>\n",
              "      <td>14.7</td>\n",
              "      <td>26.7</td>\n",
              "      <td>0.0</td>\n",
              "      <td>5.753928</td>\n",
              "      <td>8.598272</td>\n",
              "      <td>54.0</td>\n",
              "      <td>31.0</td>\n",
              "      <td>28.0</td>\n",
              "      <td>57.0</td>\n",
              "      <td>28.0</td>\n",
              "      <td>1011.0</td>\n",
              "      <td>1009.2</td>\n",
              "      <td>0.000000</td>\n",
              "      <td>3.898532</td>\n",
              "      <td>17.6</td>\n",
              "      <td>24.9</td>\n",
              "      <td>0</td>\n",
              "      <td>0</td>\n",
              "    </tr>\n",
              "    <tr>\n",
              "      <th>94773</th>\n",
              "      <td>31</td>\n",
              "      <td>22.0</td>\n",
              "      <td>30.7</td>\n",
              "      <td>0.0</td>\n",
              "      <td>7.000000</td>\n",
              "      <td>10.800000</td>\n",
              "      <td>28.0</td>\n",
              "      <td>9.0</td>\n",
              "      <td>17.0</td>\n",
              "      <td>65.0</td>\n",
              "      <td>54.0</td>\n",
              "      <td>1014.3</td>\n",
              "      <td>1011.4</td>\n",
              "      <td>4.000000</td>\n",
              "      <td>1.000000</td>\n",
              "      <td>28.3</td>\n",
              "      <td>29.8</td>\n",
              "      <td>0</td>\n",
              "      <td>0</td>\n",
              "    </tr>\n",
              "    <tr>\n",
              "      <th>141813</th>\n",
              "      <td>46</td>\n",
              "      <td>27.4</td>\n",
              "      <td>35.3</td>\n",
              "      <td>0.0</td>\n",
              "      <td>7.000000</td>\n",
              "      <td>9.900000</td>\n",
              "      <td>30.0</td>\n",
              "      <td>9.0</td>\n",
              "      <td>19.0</td>\n",
              "      <td>75.0</td>\n",
              "      <td>62.0</td>\n",
              "      <td>1013.0</td>\n",
              "      <td>1009.0</td>\n",
              "      <td>8.000000</td>\n",
              "      <td>2.000000</td>\n",
              "      <td>29.4</td>\n",
              "      <td>33.3</td>\n",
              "      <td>0</td>\n",
              "      <td>0</td>\n",
              "    </tr>\n",
              "    <tr>\n",
              "      <th>70963</th>\n",
              "      <td>23</td>\n",
              "      <td>2.3</td>\n",
              "      <td>15.0</td>\n",
              "      <td>0.0</td>\n",
              "      <td>1.000000</td>\n",
              "      <td>9.300000</td>\n",
              "      <td>22.0</td>\n",
              "      <td>7.0</td>\n",
              "      <td>9.0</td>\n",
              "      <td>95.0</td>\n",
              "      <td>51.0</td>\n",
              "      <td>1033.3</td>\n",
              "      <td>1031.3</td>\n",
              "      <td>0.000000</td>\n",
              "      <td>0.000000</td>\n",
              "      <td>5.3</td>\n",
              "      <td>14.7</td>\n",
              "      <td>0</td>\n",
              "      <td>0</td>\n",
              "    </tr>\n",
              "    <tr>\n",
              "      <th>3683</th>\n",
              "      <td>1</td>\n",
              "      <td>15.3</td>\n",
              "      <td>22.6</td>\n",
              "      <td>0.2</td>\n",
              "      <td>5.753928</td>\n",
              "      <td>8.598272</td>\n",
              "      <td>30.0</td>\n",
              "      <td>0.0</td>\n",
              "      <td>13.0</td>\n",
              "      <td>89.0</td>\n",
              "      <td>71.0</td>\n",
              "      <td>1022.9</td>\n",
              "      <td>1019.0</td>\n",
              "      <td>3.914474</td>\n",
              "      <td>3.898532</td>\n",
              "      <td>18.0</td>\n",
              "      <td>21.2</td>\n",
              "      <td>0</td>\n",
              "      <td>0</td>\n",
              "    </tr>\n",
              "  </tbody>\n",
              "</table>\n",
              "<p>62402 rows × 19 columns</p>\n",
              "</div>\n",
              "      <button class=\"colab-df-convert\" onclick=\"convertToInteractive('df-953a56f5-baeb-4b5f-9b99-557fa03849b5')\"\n",
              "              title=\"Convert this dataframe to an interactive table.\"\n",
              "              style=\"display:none;\">\n",
              "        \n",
              "  <svg xmlns=\"http://www.w3.org/2000/svg\" height=\"24px\"viewBox=\"0 0 24 24\"\n",
              "       width=\"24px\">\n",
              "    <path d=\"M0 0h24v24H0V0z\" fill=\"none\"/>\n",
              "    <path d=\"M18.56 5.44l.94 2.06.94-2.06 2.06-.94-2.06-.94-.94-2.06-.94 2.06-2.06.94zm-11 1L8.5 8.5l.94-2.06 2.06-.94-2.06-.94L8.5 2.5l-.94 2.06-2.06.94zm10 10l.94 2.06.94-2.06 2.06-.94-2.06-.94-.94-2.06-.94 2.06-2.06.94z\"/><path d=\"M17.41 7.96l-1.37-1.37c-.4-.4-.92-.59-1.43-.59-.52 0-1.04.2-1.43.59L10.3 9.45l-7.72 7.72c-.78.78-.78 2.05 0 2.83L4 21.41c.39.39.9.59 1.41.59.51 0 1.02-.2 1.41-.59l7.78-7.78 2.81-2.81c.8-.78.8-2.07 0-2.86zM5.41 20L4 18.59l7.72-7.72 1.47 1.35L5.41 20z\"/>\n",
              "  </svg>\n",
              "      </button>\n",
              "      \n",
              "  <style>\n",
              "    .colab-df-container {\n",
              "      display:flex;\n",
              "      flex-wrap:wrap;\n",
              "      gap: 12px;\n",
              "    }\n",
              "\n",
              "    .colab-df-convert {\n",
              "      background-color: #E8F0FE;\n",
              "      border: none;\n",
              "      border-radius: 50%;\n",
              "      cursor: pointer;\n",
              "      display: none;\n",
              "      fill: #1967D2;\n",
              "      height: 32px;\n",
              "      padding: 0 0 0 0;\n",
              "      width: 32px;\n",
              "    }\n",
              "\n",
              "    .colab-df-convert:hover {\n",
              "      background-color: #E2EBFA;\n",
              "      box-shadow: 0px 1px 2px rgba(60, 64, 67, 0.3), 0px 1px 3px 1px rgba(60, 64, 67, 0.15);\n",
              "      fill: #174EA6;\n",
              "    }\n",
              "\n",
              "    [theme=dark] .colab-df-convert {\n",
              "      background-color: #3B4455;\n",
              "      fill: #D2E3FC;\n",
              "    }\n",
              "\n",
              "    [theme=dark] .colab-df-convert:hover {\n",
              "      background-color: #434B5C;\n",
              "      box-shadow: 0px 1px 3px 1px rgba(0, 0, 0, 0.15);\n",
              "      filter: drop-shadow(0px 1px 2px rgba(0, 0, 0, 0.3));\n",
              "      fill: #FFFFFF;\n",
              "    }\n",
              "  </style>\n",
              "\n",
              "      <script>\n",
              "        const buttonEl =\n",
              "          document.querySelector('#df-953a56f5-baeb-4b5f-9b99-557fa03849b5 button.colab-df-convert');\n",
              "        buttonEl.style.display =\n",
              "          google.colab.kernel.accessAllowed ? 'block' : 'none';\n",
              "\n",
              "        async function convertToInteractive(key) {\n",
              "          const element = document.querySelector('#df-953a56f5-baeb-4b5f-9b99-557fa03849b5');\n",
              "          const dataTable =\n",
              "            await google.colab.kernel.invokeFunction('convertToInteractive',\n",
              "                                                     [key], {});\n",
              "          if (!dataTable) return;\n",
              "\n",
              "          const docLinkHtml = 'Like what you see? Visit the ' +\n",
              "            '<a target=\"_blank\" href=https://colab.research.google.com/notebooks/data_table.ipynb>data table notebook</a>'\n",
              "            + ' to learn more about interactive tables.';\n",
              "          element.innerHTML = '';\n",
              "          dataTable['output_type'] = 'display_data';\n",
              "          await google.colab.output.renderOutput(dataTable, element);\n",
              "          const docLink = document.createElement('div');\n",
              "          docLink.innerHTML = docLinkHtml;\n",
              "          element.appendChild(docLink);\n",
              "        }\n",
              "      </script>\n",
              "    </div>\n",
              "  </div>\n",
              "  "
            ]
          },
          "metadata": {},
          "execution_count": 82
        }
      ]
    },
    {
      "cell_type": "code",
      "source": [
        "# grafico che mostra la colonna RainTomorrow dopo il bilanciamento dei valori\n",
        "plt.figure(figsize=(10,5))\n",
        "plt.title(\"Distribuzione della colonna RainTomorrow dopo il bilanciamento\")\n",
        "df_balanced['RainTomorrow'].value_counts().plot(kind='bar')\n",
        "plt.xlabel('RainTomorrow')\n",
        "plt.ylabel('Counts')\n",
        "plt.show()"
      ],
      "metadata": {
        "colab": {
          "base_uri": "https://localhost:8080/",
          "height": 346
        },
        "id": "AQK0Gda5n-9M",
        "outputId": "a6996739-dd38-448a-c781-9412c1860f4f"
      },
      "execution_count": 83,
      "outputs": [
        {
          "output_type": "display_data",
          "data": {
            "text/plain": [
              "<Figure size 720x360 with 1 Axes>"
            ],
            "image/png": "[encoded data removed]"
          },
          "metadata": {
            "needs_background": "light"
          }
        }
      ]
    },
    {
      "cell_type": "markdown",
      "source": [
        "SPLIT DATASET TRAIN E TEST"
      ],
      "metadata": {
        "id": "hIE8AVInZGB8"
      }
    },
    {
      "cell_type": "code",
      "source": [
        "X = df_balanced.loc[:, df_balanced.columns != 'RainTomorrow']\n",
        "Y = df_balanced['RainTomorrow']"
      ],
      "metadata": {
        "id": "liPC0bB9ZKLq"
      },
      "execution_count": 84,
      "outputs": []
    },
    {
      "cell_type": "code",
      "source": [
        "#grafico che mostra porzione di dati utilizzata per il training e per il test\n",
        "training_data = 0.8\n",
        "testing_data = 0.2\n",
        "\n",
        "# Imposto i dati\n",
        "labels = ['Training', 'Test']\n",
        "sizes = [training_data, testing_data]\n",
        "\n",
        "# Creo il grafico a torta\n",
        "plt.pie(sizes, labels=labels, startangle=90, autopct='%1.1f%%', shadow=True, wedgeprops={'edgecolor': 'black'})\n",
        "\n",
        "# Aggiungo il titolo\n",
        "plt.title(\"Porzione di dati utilizzati per il training e il test\")\n",
        "\n",
        "# Mostro il grafico\n",
        "plt.show()"
      ],
      "metadata": {
        "colab": {
          "base_uri": "https://localhost:8080/",
          "height": 264
        },
        "id": "z1mshStgXKJ0",
        "outputId": "817796d7-bf19-4563-cce6-789bec18f3d4"
      },
      "execution_count": 85,
      "outputs": [
        {
          "output_type": "display_data",
          "data": {
            "text/plain": [
              "<Figure size 432x288 with 1 Axes>"
            ],
            "image/png": "[encoded data removed]"
          },
          "metadata": {}
        }
      ]
    },
    {
      "cell_type": "code",
      "source": [
        "X=df_balanced.loc[:, df.columns!='RainTomorrow']\n",
        "Y=df_balanced['RainTomorrow']\n",
        "# split data into training and test sets\n",
        "X_train, X_test, y_train, y_test = train_test_split(X, \n",
        "                                                    Y, \n",
        "                                                    test_size=0.20, \n",
        "                                                    random_state=123)"
      ],
      "metadata": {
        "id": "XFF1pTizby4w"
      },
      "execution_count": 86,
      "outputs": []
    },
    {
      "cell_type": "markdown",
      "source": [
        "##MODELLI DI CLASSIFICAZIONE"
      ],
      "metadata": {
        "id": "j1cteY9plKLo"
      }
    },
    {
      "cell_type": "markdown",
      "source": [
        "REGRESSIONE LOGISTICA"
      ],
      "metadata": {
        "id": "lbwfeFt4cAAr"
      }
    },
    {
      "cell_type": "code",
      "source": [
        "# modello di regressione logistica del train\n",
        "lr = LogisticRegression()\n",
        "lr.fit(X_train, y_train)"
      ],
      "metadata": {
        "colab": {
          "base_uri": "https://localhost:8080/"
        },
        "id": "ZwodwqWYb04M",
        "outputId": "eb17264d-7fe6-4d8a-8cdb-4d4bc4d71a6a"
      },
      "execution_count": 87,
      "outputs": [
        {
          "output_type": "stream",
          "name": "stderr",
          "text": [
            "/usr/local/lib/python3.8/dist-packages/sklearn/linear_model/_logistic.py:814: ConvergenceWarning: lbfgs failed to converge (status=1):\n",
            "STOP: TOTAL NO. of ITERATIONS REACHED LIMIT.\n",
            "\n",
            "Increase the number of iterations (max_iter) or scale the data as shown in:\n",
            "    https://scikit-learn.org/stable/modules/preprocessing.html\n",
            "Please also refer to the documentation for alternative solver options:\n",
            "    https://scikit-learn.org/stable/modules/linear_model.html#logistic-regression\n",
            "  n_iter_i = _check_optimize_result(\n"
          ]
        },
        {
          "output_type": "execute_result",
          "data": {
            "text/plain": [
              "LogisticRegression()"
            ]
          },
          "metadata": {},
          "execution_count": 87
        }
      ]
    },
    {
      "cell_type": "code",
      "source": [
        "# previsioni sul set di test\n",
        "y_pred = lr.predict(X_test)\n",
        "\n",
        "# valutare le performance del modello\n",
        "accuracy = accuracy_score(y_test, y_pred)\n",
        "precision = precision_score(y_test, y_pred)\n",
        "recall = recall_score(y_test, y_pred)\n",
        "f1 = f1_score(y_test, y_pred)\n",
        "print('Accuracy:', accuracy)\n",
        "print('Precision:', precision)\n",
        "print('Recall:', recall)\n",
        "print('F1 score:', f1)"
      ],
      "metadata": {
        "id": "Ie90wORNIfa6",
        "colab": {
          "base_uri": "https://localhost:8080/"
        },
        "outputId": "7eaf9c26-f5f1-46a6-b595-9baea8e56bf0"
      },
      "execution_count": 88,
      "outputs": [
        {
          "output_type": "stream",
          "name": "stdout",
          "text": [
            "Accuracy: 0.861629677109206\n",
            "Precision: 0.8603761555626395\n",
            "Recall: 0.8638182109137462\n",
            "F1 score: 0.8620937475045916\n"
          ]
        }
      ]
    },
    {
      "cell_type": "code",
      "source": [
        "#usiamo La matrice di confusione per fornire un'ulteriore idea delle prestazioni del modello\n",
        "# Calcola la matrice di confusione\n",
        "conf_matrix = confusion_matrix(y_test, y_pred)\n",
        "\n",
        "# Crea la heatmap della matrice di confusione\n",
        "sns.heatmap(conf_matrix, annot=True, fmt='d', cmap='Blues')\n",
        "plt.xlabel('Previsto')\n",
        "plt.ylabel('Vero valore')\n",
        "plt.show()"
      ],
      "metadata": {
        "colab": {
          "base_uri": "https://localhost:8080/",
          "height": 279
        },
        "id": "73j2iBl8aJYe",
        "outputId": "310c700a-2d9f-448b-ca25-14902c807901"
      },
      "execution_count": 89,
      "outputs": [
        {
          "output_type": "display_data",
          "data": {
            "text/plain": [
              "<Figure size 432x288 with 2 Axes>"
            ],
            "image/png": "[encoded data removed]"
          },
          "metadata": {
            "needs_background": "light"
          }
        }
      ]
    },
    {
      "cell_type": "markdown",
      "source": [
        "ALBERO DI DECISIONE"
      ],
      "metadata": {
        "id": "VfKXgoNmVFux"
      }
    },
    {
      "cell_type": "code",
      "source": [
        "# crea un'istanza di DecisionTreeClassifier\n",
        "model = DecisionTreeClassifier()\n",
        "\n",
        "# addestra il modello sui dati di addestramento\n",
        "model.fit(X_train, y_train)"
      ],
      "metadata": {
        "colab": {
          "base_uri": "https://localhost:8080/"
        },
        "id": "mDkJGT6_VRVd",
        "outputId": "deed9fc3-1c46-43c9-8fb3-6dd874d3ccc4"
      },
      "execution_count": 90,
      "outputs": [
        {
          "output_type": "execute_result",
          "data": {
            "text/plain": [
              "DecisionTreeClassifier()"
            ]
          },
          "metadata": {},
          "execution_count": 90
        }
      ]
    },
    {
      "cell_type": "code",
      "source": [
        "# effettua previsioni sui dati di test\n",
        "y_pred = model.predict(X_test)\n",
        "\n",
        "# valuta le performance del modello\n",
        "accuracy = accuracy_score(y_test, y_pred)\n",
        "precision = precision_score(y_test, y_pred)\n",
        "recall = recall_score(y_test, y_pred)\n",
        "f1 = f1_score(y_test, y_pred)\n",
        "print('Accuracy:', accuracy)\n",
        "print('Precision:', precision)\n",
        "print('Recall:', recall)\n",
        "print('F1 score:', f1)"
      ],
      "metadata": {
        "id": "IoHVKP6XTUf8",
        "colab": {
          "base_uri": "https://localhost:8080/"
        },
        "outputId": "f0b42b7f-0a64-40ce-affe-d8a67f033e8e"
      },
      "execution_count": 91,
      "outputs": [
        {
          "output_type": "stream",
          "name": "stdout",
          "text": [
            "Accuracy: 0.8771733034212003\n",
            "Precision: 0.8778846153846154\n",
            "Recall: 0.8766202592414787\n",
            "F1 score: 0.8772519817439347\n"
          ]
        }
      ]
    },
    {
      "cell_type": "code",
      "source": [
        "#usiamo La matrice di confusione per fornire un'ulteriore idea delle prestazioni del modello\n",
        "# Calcola la matrice di confusione\n",
        "conf_matrix = confusion_matrix(y_test, y_pred)\n",
        "\n",
        "# Crea la heatmap della matrice di confusione\n",
        "sns.heatmap(conf_matrix, annot=True, fmt='d', cmap='Blues')\n",
        "plt.xlabel('Previsto')\n",
        "plt.ylabel('Vero valore')\n",
        "plt.show()"
      ],
      "metadata": {
        "colab": {
          "base_uri": "https://localhost:8080/",
          "height": 279
        },
        "id": "0m3b-cWdYQJy",
        "outputId": "29635eed-54e7-4817-e233-a54cc64f1b22"
      },
      "execution_count": 92,
      "outputs": [
        {
          "output_type": "display_data",
          "data": {
            "text/plain": [
              "<Figure size 432x288 with 2 Axes>"
            ],
            "image/png": "[encoded data removed]"
          },
          "metadata": {
            "needs_background": "light"
          }
        }
      ]
    },
    {
      "cell_type": "markdown",
      "source": [
        "CLASSIFICATORE BAYESIANO"
      ],
      "metadata": {
        "id": "wwl4eVy2VURt"
      }
    },
    {
      "cell_type": "code",
      "source": [
        "# crea un'istanza di GaussianNB\n",
        "model = GaussianNB()\n",
        "\n",
        "# addestra il modello sui dati di addestramento\n",
        "model.fit(X_train, y_train)"
      ],
      "metadata": {
        "colab": {
          "base_uri": "https://localhost:8080/"
        },
        "id": "p22Jf5b0VeJ1",
        "outputId": "070fd58b-00ee-4e90-9917-515f77b074da"
      },
      "execution_count": 93,
      "outputs": [
        {
          "output_type": "execute_result",
          "data": {
            "text/plain": [
              "GaussianNB()"
            ]
          },
          "metadata": {},
          "execution_count": 93
        }
      ]
    },
    {
      "cell_type": "code",
      "source": [
        "# effettua previsioni sui dati di test\n",
        "y_pred = model.predict(X_test)\n",
        "\n",
        "# valuta le performance del modello\n",
        "accuracy = accuracy_score(y_test, y_pred)\n",
        "precision = precision_score(y_test, y_pred)\n",
        "recall = recall_score(y_test, y_pred)\n",
        "f1 = f1_score(y_test, y_pred)\n",
        "print('Accuracy:', accuracy)\n",
        "print('Precision:', precision)\n",
        "print('Recall:', recall)\n",
        "print('F1 score:', f1)"
      ],
      "metadata": {
        "id": "LNeikOWmVxwY",
        "colab": {
          "base_uri": "https://localhost:8080/"
        },
        "outputId": "cb73ca53-4453-4109-a9da-8a0e2c9d0502"
      },
      "execution_count": 94,
      "outputs": [
        {
          "output_type": "stream",
          "name": "stdout",
          "text": [
            "Accuracy: 0.832144860187485\n",
            "Precision: 0.8463975983989326\n",
            "Recall: 0.8121299407905265\n",
            "F1 score: 0.8289097590853408\n"
          ]
        }
      ]
    },
    {
      "cell_type": "code",
      "source": [
        "#usiamo La matrice di confusione per fornire un'ulteriore idea delle prestazioni del modello\n",
        "# Calcola la matrice di confusione\n",
        "conf_matrix = confusion_matrix(y_test, y_pred)\n",
        "\n",
        "# Crea la heatmap della matrice di confusione\n",
        "sns.heatmap(conf_matrix, annot=True, fmt='d', cmap='Blues')\n",
        "plt.xlabel('Previsto')\n",
        "plt.ylabel('Vero valore')\n",
        "plt.show()"
      ],
      "metadata": {
        "colab": {
          "base_uri": "https://localhost:8080/",
          "height": 279
        },
        "id": "UY2-8xKbYSKf",
        "outputId": "9b966ceb-8a4f-4e85-9e27-4035a29b3cfb"
      },
      "execution_count": 95,
      "outputs": [
        {
          "output_type": "display_data",
          "data": {
            "text/plain": [
              "<Figure size 432x288 with 2 Axes>"
            ],
            "image/png": "[encoded data removed]"
          },
          "metadata": {
            "needs_background": "light"
          }
        }
      ]
    },
    {
      "cell_type": "markdown",
      "source": [
        "##PROLOG"
      ],
      "metadata": {
        "id": "rQyCBjczcO6x"
      }
    },
    {
      "cell_type": "code",
      "source": [
        "insiemeProp= [\"temperatura(albury, 20)\", \"temperatura(badgerysCreek, 18)\",\"temperatura(cobar, 3)\",\"temperatura(coffsHarbour, 21)\",\n",
        "              \"temperatura(moree, 14)\",\"temperatura(newcastle, 8)\",\"temperatura(norahHead, 10)\",\"temperatura(norfolkIsland, 15)\",\n",
        "              \"temperatura(penrith, 17)\",\"temperatura(sydney, 6)\",\"temperatura(sydneyAirport, 6)\",\"temperatura(waggaWagga, 7)\",\n",
        "              \"temperatura(williamtown, 9)\",\"temperatura(wollongong, 16)\",\"temperatura(canberra, 15)\",\"temperatura(tuggeranong, 18)\",\n",
        "              \"temperatura(mountGinini, 9)\",\"temperatura(ballarat, 8)\",\"temperatura(bendigo, 8)\",\"temperatura(sale, 6)\",\n",
        "              \"temperatura(melbourneAirport, 3)\",\"temperatura(melbourne, 4)\",\"temperatura(mildura, 9)\",\"temperatura(nhil, 15)\",\n",
        "              \"temperatura(portland, 12)\",\"temperatura(watsonia, 10)\",\"temperatura(dartmoor, 11)\",\"temperatura(brisbane, 19)\",\n",
        "              \"temperatura(cairns, 1)\",\"temperatura(goldCoast, 20)\",\"temperatura(townsville, 15)\",\"temperatura(adelaide, 16)\",\n",
        "              \"temperatura(mountGambier, 9)\",\"temperatura(nuriootpa, 23)\",\"temperatura(woomera, 21)\",\"temperatura(albany, 16)\",\n",
        "              \"temperatura(witchcliffe, 8)\",\"temperatura(pearceRAAF, 21)\",\"temperatura(perthAirport, 6)\",\"temperatura(perth, 9)\",\n",
        "              \"temperatura(salmonGums, 9)\",\"temperatura(walpole, 11)\",\"temperatura(hobart, 19)\",\"temperatura(launceston, 10)\",\n",
        "              \"temperatura(aliceSprings, 20)\",\"temperatura(darwin, 6)\",\"temperatura(katherine, 2)\",\"temperatura(uluru, 17)\",\n",
        "              #divisorio\n",
        "              \"km_vento(albury, 8)\", \"km_vento(badgerysCreek, 18)\",\"km_vento(cobar, 90)\",\"km_vento(coffsHarbour, 21)\",\n",
        "              \"km_vento(moree, 14)\",\"km_vento(newcastle, 8)\",\"km_vento(norahHead, 10)\",\"km_vento(norfolkIsland, 15)\",\n",
        "              \"km_vento(penrith, 17)\",\"km_vento(sydney, 65)\",\"km_vento(sydneyAirport, 62)\",\"km_vento(waggaWagga, 80)\",\n",
        "              \"km_vento(williamtown, 9)\",\"km_vento(wollongong, 16)\",\"km_vento(canberra, 15)\",\"km_vento(tuggeranong, 18)\",\n",
        "              \"km_vento(mountGinini, 50)\",\"km_vento(ballarat, 50)\",\"km_vento(bendigo, 42)\",\"km_vento(sale, 67)\",\n",
        "              \"km_vento(melbourneAirport, 18)\",\"km_vento(melbourne, 80)\",\"km_vento(mildura, 46)\",\"km_vento(nhil, 15)\",\n",
        "              \"km_vento(portland, 62)\",\"km_vento(watsonia, 10)\",\"km_vento(dartmoor, 11)\",\"km_vento(brisbane, 19)\",\n",
        "              \"km_vento(cairns, 10)\",\"km_vento(goldCoast, 20)\",\"km_vento(townsville, 15)\",\"km_vento(adelaide, 75)\",\n",
        "              \"km_vento(mountGambier, 45)\",\"km_vento(nuriootpa, 23)\",\"km_vento(woomera, 21)\",\"km_vento(albany, 16)\",\n",
        "              \"km_vento(witchcliffe, 50)\",\"km_vento(pearceRAAF, 21)\",\"km_vento(perthAirport, 65)\",\"km_vento(perth, 43)\",\n",
        "              \"km_vento(salmonGums, 57)\",\"km_vento(walpole, 11)\",\"km_vento(hobart, 19)\",\"km_vento(launceston, 10)\",\n",
        "              \"km_vento(aliceSprings, 20)\",\"km_vento(darwin, 67)\",\"km_vento(katherine, 80)\",\"km_vento(uluru, 17)\",\n",
        "              #divisorio\n",
        "              \"umidita_percento(albury, 8)\", \"umidita_percento(badgerysCreek, 18)\",\"umidita_percento(cobar, 11)\",\"umidita_percento(coffsHarbour, 21)\",\n",
        "              \"umidita_percento(moree, 14)\",\"umidita_percento(newcastle, 8)\",\"umidita_percento(norahHead, 10)\",\"umidita_percento(norfolkIsland, 15)\",\n",
        "              \"umidita_percento(penrith, 17)\",\"umidita_percento(sydney, 13)\",\"umidita_percento(sydneyAirport, 12)\",\"umidita_percento(waggaWagga, 7)\",\n",
        "              \"umidita_percento(williamtown, 9)\",\"umidita_percento(wollongong, 16)\",\"umidita_percento(canberra, 15)\",\"umidita_percento(tuggeranong, 18)\",\n",
        "              \"umidita_percento(mountGinini, 11)\",\"umidita_percento(ballarat, 17)\",\"umidita_percento(bendigo, 6)\",\"umidita_percento(sale, 8)\",\n",
        "              \"umidita_percento(melbourneAirport, 18)\",\"umidita_percento(melbourne, 16)\",\"umidita_percento(mildura, 9)\",\"umidita_percento(nhil, 15)\",\n",
        "              \"umidita_percento(portland, 12)\",\"umidita_percento(watsonia, 10)\",\"umidita_percento(dartmoor, 11)\",\"umidita_percento(brisbane, 19)\",\n",
        "              \"umidita_percento(cairns, 10)\",\"umidita_percento(goldCoast, 20)\",\"umidita_percento(townsville, 15)\",\"umidita_percento(adelaide, 16)\",\n",
        "              \"umidita_percento(mountGambier, 22)\",\"umidita_percento(nuriootpa, 23)\",\"umidita_percento(woomera, 21)\",\"umidita_percento(albany, 16)\",\n",
        "              \"umidita_percento(witchcliffe, 18)\",\"umidita_percento(pearceRAAF, 21)\",\"umidita_percento(perthAirport, 25)\",\"umidita_percento(perth, 14)\",\n",
        "              \"umidita_percento(salmonGums, 17)\",\"umidita_percento(walpole, 11)\",\"umidita_percento(hobart, 19)\",\"umidita_percento(launceston, 10)\",\n",
        "              \"umidita_percento(aliceSprings, 20)\",\"umidita_percento(darwin, 22)\",\"umidita_percento(katherine, 21)\",\"umidita_percento(uluru, 17)\",\n",
        "              #divisorio\n",
        "              \"condizione_attuale(albury, soleggiato)\", \"condizione_attuale(badgerysCreek, nuvoloso)\",\"condizione_attuale(cobar, pioggia)\",\"condizione_attuale(coffsHarbour, soleggiato)\",\n",
        "              \"condizione_attuale(moree, soleggiato)\",\"condizione_attuale(newcastle, soleggiato)\",\"condizione_attuale(norahHead, pioggia)\",\"condizione_attuale(norfolkIsland, nuvoloso)\",\n",
        "              \"condizione_attuale(penrith, nuvoloso)\",\"condizione_attuale(sydney, pioggia)\",\"condizione_attuale(sydneyAirport, pioggia)\",\"condizione_attuale(waggaWagga, soleggiato)\",\n",
        "              \"condizione_attuale(williamtown, nuvoloso)\",\"condizione_attuale(wollongong, soleggiato)\",\"condizione_attuale(canberra, pioggia)\",\"condizione_attuale(tuggeranong, nuvoloso)\",\n",
        "              \"condizione_attuale(mountGinini, pioggia)\",\"condizione_attuale(ballarat, pioggia)\",\"condizione_attuale(bendigo, pioggia)\",\"condizione_attuale(sale, pioggia)\",\n",
        "              \"condizione_attuale(melbourneAirport, soleggiato)\",\"condizione_attuale(melbourne, pioggia)\",\"condizione_attuale(mildura, pioggia)\",\"condizione_attuale(nhil, soleggiato)\",\n",
        "              \"condizione_attuale(portland, nuvoloso)\",\"condizione_attuale(watsonia, soleggiato)\",\"condizione_attuale(dartmoor, soleggiato)\",\"condizione_attuale(brisbane, nuvoloso)\",\n",
        "              \"condizione_attuale(cairns, soleggiato)\",\"condizione_attuale(goldCoast, soleggiato)\",\"condizione_attuale(townsville, nuvoloso)\",\"condizione_attuale(adelaide, nuvoloso)\",\n",
        "              \"condizione_attuale(mountGambier, pioggia)\",\"condizione_attuale(nuriootpa, soleggiato)\",\"condizione_attuale(woomera, nebbia)\",\"condizione_attuale(albany, soleggiato)\",\n",
        "              \"condizione_attuale(witchcliffe, pioggia)\",\"condizione_attuale(pearceRAAF, pioggia)\",\"condizione_attuale(perthAirport, pioggia)\",\"condizione_attuale(perth, pioggia)\",\n",
        "              \"condizione_attuale(salmonGums, pioggia)\",\"condizione_attuale(walpole, nuvoloso)\",\"condizione_attuale(hobart, soleggiato)\",\"condizione_attuale(launceston, nuvoloso)\",\n",
        "              \"condizione_attuale(aliceSprings, nuvoloso)\",\"condizione_attuale(darwin, pioggia)\",\"condizione_attuale(katherine, pioggia)\",\"condizione_attuale(uluru, pioggia)\",\n",
        "              #divisorio\n",
        "              \"mm_pioggia(albury, 0)\", \"mm_pioggia(badgerysCreek, 0)\",\"mm_pioggia(cobar, 4)\",\"mm_pioggia(coffsHarbour, 0)\",\n",
        "              \"mm_pioggia(moree, 0)\",\"mm_pioggia(newcastle, 0)\",\"mm_pioggia(norahHead, 1.4)\",\"mm_pioggia(norfolkIsland, 0)\",\n",
        "              \"mm_pioggia(penrith, 2)\",\"mm_pioggia(sydney, 4)\",\"mm_pioggia(sydneyAirport, 3)\",\"mm_pioggia(waggaWagga, 0)\",\n",
        "              \"mm_pioggia(williamtown, 0)\",\"mm_pioggia(wollongong, 0)\",\"mm_pioggia(canberra, 1.2)\",\"mm_pioggia(tuggeranong, 0)\",\n",
        "              \"mm_pioggia(mountGinini, 3)\",\"mm_pioggia(ballarat, 3.4)\",\"mm_pioggia(bendigo, 5)\",\"mm_pioggia(sale, 3)\",\n",
        "              \"mm_pioggia(melbourneAirport, 0)\",\"mm_pioggia(melbourne, 3.4)\",\"mm_pioggia(mildura, 5)\",\"mm_pioggia(nhil, 0)\",\n",
        "              \"mm_pioggia(portland, 0)\",\"mm_pioggia(watsonia, 0)\",\"mm_pioggia(dartmoor, 0)\",\"mm_pioggia(brisbane, 0)\",\n",
        "              \"mm_pioggia(cairns, 0)\",\"mm_pioggia(goldCoast, 0)\",\"mm_pioggia(townsville, 0)\",\"mm_pioggia(adelaide, 0)\",\n",
        "              \"mm_pioggia(mountGambier, 4.5)\",\"mm_pioggia(nuriootpa, 0)\",\"mm_pioggia(woomera, 0)\",\"mm_pioggia(albany, 0)\",\n",
        "              \"mm_pioggia(witchcliffe, 4.5)\",\"mm_pioggia(pearceRAAF, 2)\",\"mm_pioggia(perthAirport, 4.5)\",\"mm_pioggia(perth, 4)\",\n",
        "              \"mm_pioggia(salmonGums, 3)\",\"mm_pioggia(walpole, 0)\",\"mm_pioggia(hobart, 0)\",\"mm_pioggia(launceston, 0)\",\n",
        "              \"mm_pioggia(aliceSprings, 0)\",\"mm_pioggia(darwin, 4.5)\",\"mm_pioggia(katherine, 4.5)\",\"mm_pioggia(uluru, 2.4)\",\n",
        "              #divisorio\n",
        "              \"pioggia_forte(Citta) :- condizione_attuale(Citta, pioggia), mm_pioggia(Citta, M), M>2\",\n",
        "              \"vento_forte(Citta) :- km_vento(Citta, K), K>40\",\n",
        "              \"vento_allerta_gialla(Citta) :- km_vento(Citta, K), K>=40, K<60\",\n",
        "              \"vento_allerta_arancione(Citta) :- km_vento(Citta, K), K>=60, K<75\",\n",
        "              \"vento_allerta_rossa(Citta) :- km_vento(Citta, K), K>=75\",\n",
        "              \"allerta(Citta) :- pioggia_forte(Citta), vento_forte(Citta), temperatura(Citta, T), T <= 10\",\n",
        "              \"allerta_gialla(Citta) :- pioggia_forte(Citta), vento_allerta_gialla(Citta), temperatura(Citta, T), T >= 7, T <= 10\",\n",
        "              \"allerta_arancione(Citta) :- pioggia_forte(Citta), vento_allerta_arancione(Citta), temperatura(Citta, T), T >= 5, T < 7\",\n",
        "              \"allerta_rossa(Citta) :- pioggia_forte(Citta), vento_allerta_rossa(Citta), temperatura(Citta, T), T < 5\"]\n",
        "\n",
        "\n",
        "!pip install pytholog\n",
        "import pytholog\n",
        "\n",
        "#creazione e popolazione kb\n",
        "kbMeteo = pytholog.KnowledgeBase(\"meteo\")\n",
        "for prop in insiemeProp:\n",
        "    #inseriamo ogni proprietà nella KB\n",
        "    kbMeteo([prop])\n",
        "\n",
        "#query\n",
        "risultatoQuery = kbMeteo.query(pytholog.Expr(\"temperatura(X, 20)\"))\n",
        "print(\"\\n Le citta' con temperatura di 20 gradi sono: \", risultatoQuery)\n",
        "\n",
        "risultatoQuery = kbMeteo.query(pytholog.Expr(\"temperatura(uluru, 17)\"))\n",
        "print(\"\\n La temperatura della citta' Uluru e' 17? \", risultatoQuery)\n",
        "\n",
        "risultatoQuery = kbMeteo.query(pytholog.Expr(\"condizione_attuale(X, sole)\"))\n",
        "print(\"\\n Le citta' con meteo soleggiato al momento sono: \", risultatoQuery)\n",
        "\n",
        "risultatoQuery = kbMeteo.query(pytholog.Expr(\"pioggia_forte(townsville)\"))\n",
        "print(\"\\nLa pioggia e' forte a townsville? \", risultatoQuery)\n",
        "\n",
        "risultatoQuery = kbMeteo.query(pytholog.Expr(\"allerta_gialla(mountGinini)\"))\n",
        "print(\"\\n Allerta meteo gialla per Mount Ginini?\", risultatoQuery)\n",
        "\n",
        "risultatoQuery = kbMeteo.query(pytholog.Expr(\"pioggia_forte(sydney)\"))\n",
        "print(\"\\nLa pioggia e' forte a sydney? \", risultatoQuery)\n",
        "\n",
        "risultatoQuery = kbMeteo.query(pytholog.Expr(\"allerta_arancione(sydney)\"))\n",
        "print(\"\\nAllerta meteo arancione per sydney? \", risultatoQuery)\n",
        "\n",
        "risultatoQuery = kbMeteo.query(pytholog.Expr(\"allerta_arancione(townsville)\"))\n",
        "print(\"\\nAllerta meteo arancione per townsville? \", risultatoQuery)\n",
        "\n",
        "risultatoQuery = kbMeteo.query(pytholog.Expr(\"allerta(bendigo)\"))\n",
        "print(\"\\n Le citta' con meteo soleggiato al momento sono: \", risultatoQuery)\n",
        "\n",
        "risultatoQuery = kbMeteo.query(pytholog.Expr(\"umidita_percento(X, 16)\"))\n",
        "print(\"\\n Le citta' con meteo soleggiato al momento sono: \", risultatoQuery)"
      ],
      "metadata": {
        "id": "LqQ_r7g0bfJk",
        "colab": {
          "base_uri": "https://localhost:8080/"
        },
        "outputId": "e6d4269d-4f77-45f2-d7cd-5d1dfe6962a9"
      },
      "execution_count": 96,
      "outputs": [
        {
          "output_type": "stream",
          "name": "stdout",
          "text": [
            "Looking in indexes: https://pypi.org/simple, https://us-python.pkg.dev/colab-wheels/public/simple/\n",
            "Requirement already satisfied: pytholog in /usr/local/lib/python3.8/dist-packages (2.4.1)\n",
            "Requirement already satisfied: more-itertools in /usr/local/lib/python3.8/dist-packages (from pytholog) (9.0.0)\n",
            "\n",
            " Le citta' con temperatura di 20 gradi sono:  [{'X': 'albury'}, {'X': 'aliceSprings'}, {'X': 'goldCoast'}]\n",
            "\n",
            " La temperatura della citta' Uluru e' 17?  ['Yes']\n",
            "\n",
            " Le citta' con meteo soleggiato al momento sono:  ['No']\n",
            "\n",
            "La pioggia e' forte a townsville?  ['No']\n",
            "\n",
            " Allerta meteo gialla per Mount Ginini? ['Yes']\n",
            "\n",
            "La pioggia e' forte a sydney?  ['Yes']\n",
            "\n",
            "Allerta meteo arancione per sydney?  ['Yes']\n",
            "\n",
            "Allerta meteo arancione per townsville?  ['No']\n",
            "\n",
            " Le citta' con meteo soleggiato al momento sono:  ['Yes']\n",
            "\n",
            " Le citta' con meteo soleggiato al momento sono:  [{'X': 'adelaide'}, {'X': 'albany'}, {'X': 'melbourne'}, {'X': 'wollongong'}]\n"
          ]
        }
      ]
    },
    {
      "cell_type": "code",
      "source": [
        "#GRAFICO ALLERTE METEO\n",
        "\n",
        "# contare il numero di città in ogni categoria di allerta\n",
        "allerta_counts = {'allerta_rossa': 3, 'allerta_arancione': 5, 'allerta_gialla': 8, 'nessuna_allerta': 32}\n",
        "colors = ['red', 'orange', 'yellow', 'blue']\n",
        "# estrarre i valori e le etichette dal dizionario\n",
        "values = list(allerta_counts.values())\n",
        "labels = list(allerta_counts.keys())\n",
        "\n",
        "# creare il grafico a torta\n",
        "plt.pie(values, colors=colors, labels=labels)\n",
        "\n",
        "# mostrare il grafico\n",
        "plt.show()"
      ],
      "metadata": {
        "colab": {
          "base_uri": "https://localhost:8080/",
          "height": 248
        },
        "id": "-nmLB0FGIXoM",
        "outputId": "7f1d2ae0-dc35-4854-8471-1467f0195c61"
      },
      "execution_count": 97,
      "outputs": [
        {
          "output_type": "display_data",
          "data": {
            "text/plain": [
              "<Figure size 432x288 with 1 Axes>"
            ],
            "image/png": "[encoded data removed]"
          },
          "metadata": {}
        }
      ]
    }
  ]
}